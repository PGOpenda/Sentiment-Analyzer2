{
 "cells": [
  {
   "cell_type": "markdown",
   "id": "99f0856c",
   "metadata": {},
   "source": [
    "# <u><em>SENTIMENT ANALYZER<em></u>"
   ]
  },
  {
   "cell_type": "markdown",
   "id": "77b25d33",
   "metadata": {},
   "source": [
    "## Import libraries"
   ]
  },
  {
   "cell_type": "code",
   "execution_count": 16,
   "id": "9db2b878",
   "metadata": {},
   "outputs": [
    {
     "name": "stderr",
     "output_type": "stream",
     "text": [
      "[nltk_data] Downloading package punkt to\n",
      "[nltk_data]     C:\\Users\\piuso\\AppData\\Roaming\\nltk_data...\n",
      "[nltk_data]   Package punkt is already up-to-date!\n",
      "[nltk_data] Downloading package stopwords to\n",
      "[nltk_data]     C:\\Users\\piuso\\AppData\\Roaming\\nltk_data...\n",
      "[nltk_data]   Unzipping corpora\\stopwords.zip.\n",
      "[nltk_data] Downloading package wordnet to\n",
      "[nltk_data]     C:\\Users\\piuso\\AppData\\Roaming\\nltk_data...\n",
      "[nltk_data]   Package wordnet is already up-to-date!\n"
     ]
    },
    {
     "data": {
      "text/plain": [
       "True"
      ]
     },
     "execution_count": 16,
     "metadata": {},
     "output_type": "execute_result"
    }
   ],
   "source": [
    "import re\n",
    "import joblib\n",
    "import pandas as pd\n",
    "import nltk\n",
    "from nltk.corpus import stopwords\n",
    "from nltk.tokenize import word_tokenize\n",
    "from nltk.stem import WordNetLemmatizer, PorterStemmer\n",
    "from sklearn.feature_extraction.text import CountVectorizer, TfidfVectorizer\n",
    "from sklearn.model_selection import train_test_split\n",
    "from sklearn.naive_bayes import MultinomialNB\n",
    "from sklearn.svm import SVC\n",
    "from sklearn.metrics import accuracy_score, classification_report\n",
    "\n",
    "nltk.download('punkt')\n",
    "nltk.download('stopwords')\n",
    "nltk.download('wordnet')"
   ]
  },
  {
   "cell_type": "markdown",
   "id": "54560f0a",
   "metadata": {},
   "source": [
    "## Load our dataset"
   ]
  },
  {
   "cell_type": "code",
   "execution_count": 2,
   "id": "fbcce5b3",
   "metadata": {},
   "outputs": [
    {
     "data": {
      "text/html": [
       "<div>\n",
       "<style scoped>\n",
       "    .dataframe tbody tr th:only-of-type {\n",
       "        vertical-align: middle;\n",
       "    }\n",
       "\n",
       "    .dataframe tbody tr th {\n",
       "        vertical-align: top;\n",
       "    }\n",
       "\n",
       "    .dataframe thead th {\n",
       "        text-align: right;\n",
       "    }\n",
       "</style>\n",
       "<table border=\"1\" class=\"dataframe\">\n",
       "  <thead>\n",
       "    <tr style=\"text-align: right;\">\n",
       "      <th></th>\n",
       "      <th>review</th>\n",
       "      <th>sentiment</th>\n",
       "    </tr>\n",
       "  </thead>\n",
       "  <tbody>\n",
       "    <tr>\n",
       "      <th>0</th>\n",
       "      <td>One of the other reviewers has mentioned that ...</td>\n",
       "      <td>positive</td>\n",
       "    </tr>\n",
       "    <tr>\n",
       "      <th>1</th>\n",
       "      <td>A wonderful little production. &lt;br /&gt;&lt;br /&gt;The...</td>\n",
       "      <td>positive</td>\n",
       "    </tr>\n",
       "    <tr>\n",
       "      <th>2</th>\n",
       "      <td>I thought this was a wonderful way to spend ti...</td>\n",
       "      <td>positive</td>\n",
       "    </tr>\n",
       "    <tr>\n",
       "      <th>3</th>\n",
       "      <td>Basically there's a family where a little boy ...</td>\n",
       "      <td>negative</td>\n",
       "    </tr>\n",
       "    <tr>\n",
       "      <th>4</th>\n",
       "      <td>Petter Mattei's \"Love in the Time of Money\" is...</td>\n",
       "      <td>positive</td>\n",
       "    </tr>\n",
       "  </tbody>\n",
       "</table>\n",
       "</div>"
      ],
      "text/plain": [
       "                                              review sentiment\n",
       "0  One of the other reviewers has mentioned that ...  positive\n",
       "1  A wonderful little production. <br /><br />The...  positive\n",
       "2  I thought this was a wonderful way to spend ti...  positive\n",
       "3  Basically there's a family where a little boy ...  negative\n",
       "4  Petter Mattei's \"Love in the Time of Money\" is...  positive"
      ]
     },
     "execution_count": 2,
     "metadata": {},
     "output_type": "execute_result"
    }
   ],
   "source": [
    "data = pd.read_csv('data_reviews.csv')\n",
    "\n",
    "data.head()"
   ]
  },
  {
   "cell_type": "code",
   "execution_count": 3,
   "id": "0a2a5327",
   "metadata": {},
   "outputs": [
    {
     "data": {
      "text/plain": [
       "(50000, 2)"
      ]
     },
     "execution_count": 3,
     "metadata": {},
     "output_type": "execute_result"
    }
   ],
   "source": [
    "data.shape"
   ]
  },
  {
   "cell_type": "markdown",
   "id": "381e0275",
   "metadata": {},
   "source": [
    "## Function that preprocesses our dataframe"
   ]
  },
  {
   "cell_type": "code",
   "execution_count": 4,
   "id": "1672d465",
   "metadata": {},
   "outputs": [],
   "source": [
    "def preprocess_text(df, text_col):\n",
    "    # Remove URLs\n",
    "    df[text_col] = df[text_col].apply(lambda x: re.sub(r'http\\S+', '', x))\n",
    "    \n",
    "    # Remove special characters\n",
    "    df[text_col] = df[text_col].apply(lambda x: re.sub(r'[^\\w\\s]', '', x))\n",
    "    \n",
    "    # Convert text to lowercase\n",
    "    df[text_col] = df[text_col].apply(lambda x: x.lower())\n",
    "    \n",
    "    # Remove stopwords\n",
    "    stop_words = set(stopwords.words('english'))\n",
    "    df[text_col] = df[text_col].apply(lambda x: ' '.join([word for word in word_tokenize(x) if word.casefold() not in stop_words]))\n",
    "    \n",
    "    return df"
   ]
  },
  {
   "cell_type": "markdown",
   "id": "11345beb",
   "metadata": {},
   "source": [
    "## Preprocess our dataframe by passing the function to our data frame"
   ]
  },
  {
   "cell_type": "code",
   "execution_count": 6,
   "id": "9c29573b",
   "metadata": {},
   "outputs": [],
   "source": [
    "preprocessed_df = preprocess_text(data, 'review')"
   ]
  },
  {
   "cell_type": "code",
   "execution_count": 7,
   "id": "a6d8033f",
   "metadata": {},
   "outputs": [
    {
     "data": {
      "text/html": [
       "<div>\n",
       "<style scoped>\n",
       "    .dataframe tbody tr th:only-of-type {\n",
       "        vertical-align: middle;\n",
       "    }\n",
       "\n",
       "    .dataframe tbody tr th {\n",
       "        vertical-align: top;\n",
       "    }\n",
       "\n",
       "    .dataframe thead th {\n",
       "        text-align: right;\n",
       "    }\n",
       "</style>\n",
       "<table border=\"1\" class=\"dataframe\">\n",
       "  <thead>\n",
       "    <tr style=\"text-align: right;\">\n",
       "      <th></th>\n",
       "      <th>review</th>\n",
       "      <th>sentiment</th>\n",
       "    </tr>\n",
       "  </thead>\n",
       "  <tbody>\n",
       "    <tr>\n",
       "      <th>0</th>\n",
       "      <td>one reviewers mentioned watching 1 oz episode ...</td>\n",
       "      <td>positive</td>\n",
       "    </tr>\n",
       "    <tr>\n",
       "      <th>1</th>\n",
       "      <td>wonderful little production br br filming tech...</td>\n",
       "      <td>positive</td>\n",
       "    </tr>\n",
       "    <tr>\n",
       "      <th>2</th>\n",
       "      <td>thought wonderful way spend time hot summer we...</td>\n",
       "      <td>positive</td>\n",
       "    </tr>\n",
       "    <tr>\n",
       "      <th>3</th>\n",
       "      <td>basically theres family little boy jake thinks...</td>\n",
       "      <td>negative</td>\n",
       "    </tr>\n",
       "    <tr>\n",
       "      <th>4</th>\n",
       "      <td>petter matteis love time money visually stunni...</td>\n",
       "      <td>positive</td>\n",
       "    </tr>\n",
       "  </tbody>\n",
       "</table>\n",
       "</div>"
      ],
      "text/plain": [
       "                                              review sentiment\n",
       "0  one reviewers mentioned watching 1 oz episode ...  positive\n",
       "1  wonderful little production br br filming tech...  positive\n",
       "2  thought wonderful way spend time hot summer we...  positive\n",
       "3  basically theres family little boy jake thinks...  negative\n",
       "4  petter matteis love time money visually stunni...  positive"
      ]
     },
     "execution_count": 7,
     "metadata": {},
     "output_type": "execute_result"
    }
   ],
   "source": [
    "preprocessed_df.head()"
   ]
  },
  {
   "cell_type": "markdown",
   "id": "3289faad",
   "metadata": {},
   "source": [
    "## Support Vector Machines (SVM) model"
   ]
  },
  {
   "cell_type": "code",
   "execution_count": 20,
   "id": "f4576f6e",
   "metadata": {},
   "outputs": [
    {
     "name": "stdout",
     "output_type": "stream",
     "text": [
      "Accuracy: 86.35%\n",
      "Classification Report:\n",
      "               precision    recall  f1-score   support\n",
      "\n",
      "    negative       0.87      0.85      0.86      4961\n",
      "    positive       0.86      0.88      0.87      5039\n",
      "\n",
      "    accuracy                           0.86     10000\n",
      "   macro avg       0.86      0.86      0.86     10000\n",
      "weighted avg       0.86      0.86      0.86     10000\n",
      "\n"
     ]
    }
   ],
   "source": [
    "# Split the dataset into training and testing data\n",
    "train_data, test_data, train_labels, test_labels = train_test_split(preprocessed_df['review'], preprocessed_df['sentiment'], test_size=0.2, random_state=42)\n",
    "\n",
    "# Extract features from the text data using TF-IDF vectorizer\n",
    "vectorizer1 = TfidfVectorizer(max_features=1000)\n",
    "train_features = vectorizer1.fit_transform(train_data)\n",
    "test_features = vectorizer1.transform(test_data)\n",
    "\n",
    "# Train an SVM model on the training data\n",
    "model = SVC(kernel='linear', C=1.0)\n",
    "model.fit(train_features, train_labels)\n",
    "\n",
    "# Predict the sentiments of the testing data using the trained model\n",
    "pred_labels = model.predict(test_features)\n",
    "\n",
    "# Evaluate the performance of the model using accuracy score\n",
    "accuracy = accuracy_score(test_labels, pred_labels)\n",
    "report = classification_report(test_labels, pred_labels)\n",
    "print(\"Accuracy: {:.2f}%\".format(accuracy*100))\n",
    "print('Classification Report:\\n', report)"
   ]
  },
  {
   "cell_type": "markdown",
   "id": "1c2812b0",
   "metadata": {},
   "source": [
    "## Function to preprocess text that we would like to use with our trained model"
   ]
  },
  {
   "cell_type": "code",
   "execution_count": 21,
   "id": "bc0bd6af",
   "metadata": {},
   "outputs": [],
   "source": [
    "def preprocess(text):\n",
    "    text = re.sub(r'\\d+', '', text) # Remove numbers\n",
    "    text = re.sub(r'[^a-zA-Z0-9\\s]', '', text)# Remove special characters\n",
    "    text = text.lower() # Convert to lowercase\n",
    "    tokens = word_tokenize(text) # Tokenize the text\n",
    "    stop_words = set(stopwords.words('english'))\n",
    "    filtered_tokens = [word for word in tokens if word.lower() not in stop_words] # Remove the stopwords   \n",
    "    filtered_text = ' '.join(filtered_tokens) # Join the filtered tokens back into a string\n",
    "    return filtered_text"
   ]
  },
  {
   "cell_type": "markdown",
   "id": "2645dc91",
   "metadata": {},
   "source": [
    "## Inline prompt that asks user for text that will analyze and give sentiment"
   ]
  },
  {
   "cell_type": "code",
   "execution_count": 28,
   "id": "5445ff02",
   "metadata": {},
   "outputs": [
    {
     "name": "stdout",
     "output_type": "stream",
     "text": [
      "Enter your text: Go there\n",
      "['positive']\n"
     ]
    }
   ],
   "source": [
    "text = input(\"Enter your text: \")\n",
    "new_text = [preprocess(text)]\n",
    "new_features = vectorizer1.transform(new_text)\n",
    "predicted_label = model.predict(new_features)\n",
    "print(predicted_label)"
   ]
  },
  {
   "cell_type": "markdown",
   "id": "f5d18cda",
   "metadata": {},
   "source": [
    "### Save the trained model to my local machine"
   ]
  },
  {
   "cell_type": "code",
   "execution_count": 18,
   "id": "f990791b",
   "metadata": {},
   "outputs": [
    {
     "data": {
      "text/plain": [
       "['svm_sentiment_model.joblib']"
      ]
     },
     "execution_count": 18,
     "metadata": {},
     "output_type": "execute_result"
    }
   ],
   "source": [
    "joblib.dump(model, 'svm_sentiment_model.joblib')"
   ]
  }
 ],
 "metadata": {
  "kernelspec": {
   "display_name": "Python 3 (ipykernel)",
   "language": "python",
   "name": "python3"
  },
  "language_info": {
   "codemirror_mode": {
    "name": "ipython",
    "version": 3
   },
   "file_extension": ".py",
   "mimetype": "text/x-python",
   "name": "python",
   "nbconvert_exporter": "python",
   "pygments_lexer": "ipython3",
   "version": "3.9.13"
  }
 },
 "nbformat": 4,
 "nbformat_minor": 5
}
